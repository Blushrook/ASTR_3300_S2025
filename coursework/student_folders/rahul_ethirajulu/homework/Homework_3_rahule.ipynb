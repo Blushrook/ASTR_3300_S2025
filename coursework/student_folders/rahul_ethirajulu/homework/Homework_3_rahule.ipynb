{
 "cells": [
  {
   "cell_type": "markdown",
   "metadata": {},
   "source": [
    "### ASTR 3300/5300-003: Astrostatistics\n",
    "***N. Pol***\n",
    "___\n",
    "\n",
    "# Homework 3\n",
    "### Due: Friday, Feb 14th at 11.59pm CST\n",
    "---"
   ]
  },
  {
   "cell_type": "markdown",
   "metadata": {},
   "source": [
    "## Only one problem this week\n",
    "\n",
    "This problem uses a dataset in `/coursework/homeworks/hw_data/`.\n",
    "\n",
    "1) Read in `hw3_data_1.npy`. This is a (50 x 2) numpy array, with measurements in the first column and uncertainties in the second column. Using the analytic results for heteroscedastic Gaussian data from lectures, compute the sample mean and the standard error on the sample mean from for this data.\n",
    "\n",
    "2) Reusing some approaches and tools from `Lecture_6`, write a ln-likelihood function for heteroscedastic Gaussian data, and use it in a fitting algorithm to find the best-fit mean. *Remember that scipy optimizers are set up to minimize functions.*\n",
    "\n",
    "3) Using the same numerical technique from `Lecture_5`, compute the Fisher uncertainty estimate on the mean.\n",
    "\n",
    "4) Using the bootstrap method, generate $1000$ bootstrap realizations of this dataset. *DO NOT use the `astroML` code. Write your own bootstrap function from scratch. Also recall that when resampling data, measurements and uncertainties should stay paired together.*\n",
    "\n",
    "5) Repeat (2) with all $1000$ boostrap datasets to find the distribution of the sample mean. Plot a normalized histogram of these bootstrap means, and overplot a Gaussian pdf with the mean and std found in (1). Do these agree?\n",
    "\n",
    "6) While we have fitted a heteroscedastic Gaussian to this data, let's try something else. Write some code to define a ln-likelihood for a Laplace distribution evaluated on this data. Fit simultaneously for the Laplace location parameter $\\mu$ and scale parameter $\\Delta$.\n",
    "\n",
    "7) Compute the AIC values for the heteroscedastic Gaussian model and the Laplacian model. Which model is favored by the data?\n",
    "\n",
    "8) Using the $1000$ bootstrap datasets from before, fit for the Laplacian $\\mu$ and $\\Delta$ for each. Make a nice `corner` plot of the distributions of $\\mu$ and $\\Delta$ that shows both the marginal $1$D distributions and the joint $2$D distribution. Make sure the plot has labels, shows the titles on each $1$D marginal panel, and has $68\\%$ and $95\\%$ levels.\n",
    "\n",
    "9) Let's finish with a Fisher uncertainty estimate of the Laplacian parameters. Use the following code to install `numdifftools` which provides a simple way to compute derivatives. We can then compute the Hessian matrix, which is the matrix of the second derivatives of the user's function. This should be computed at the best-fit Laplacian parameters $\\mu$ and $\\Delta$. To finish, invert the matrix, and then take the square root. The diagonal entries will then be the Fisher uncertainties on $\\mu$ and $\\Delta$. How does these compare to the bootstrap distribution widths found in (8)?"
   ]
  },
  {
   "cell_type": "code",
   "execution_count": 359,
   "metadata": {},
   "outputs": [
    {
     "name": "stdout",
     "output_type": "stream",
     "text": [
      "Requirement already satisfied: numdifftools in d:\\softwares\\miniconda\\envs\\astr3300\\lib\\site-packages (0.9.41)\n",
      "Requirement already satisfied: numpy>=1.9 in d:\\softwares\\miniconda\\envs\\astr3300\\lib\\site-packages (from numdifftools) (1.26.4)\n",
      "Requirement already satisfied: scipy>=0.8 in d:\\softwares\\miniconda\\envs\\astr3300\\lib\\site-packages (from numdifftools) (1.14.1)\n"
     ]
    }
   ],
   "source": [
    "!pip install numdifftools"
   ]
  },
  {
   "cell_type": "code",
   "execution_count": 360,
   "metadata": {},
   "outputs": [],
   "source": [
    "import numpy as np\n",
    "import scipy as sp\n",
    "import matplotlib.pyplot as plt\n",
    "from scipy.stats import norm\n",
    "from scipy.stats import laplace\n",
    "import corner\n",
    "import numdifftools as nd"
   ]
  },
  {
   "cell_type": "code",
   "execution_count": 361,
   "metadata": {},
   "outputs": [],
   "source": [
    "# import numdifftools as nd\n",
    "# H = nd.Hessian(f_lnlaplace)([beta_laplace[0], beta_laplace[1]])\n",
    "# sigma_laplace = np.linalg.inv(H)**0.5"
   ]
  },
  {
   "cell_type": "markdown",
   "metadata": {},
   "source": [
    "### Solution"
   ]
  },
  {
   "cell_type": "code",
   "execution_count": 362,
   "metadata": {},
   "outputs": [],
   "source": [
    "data = np.load('hw_data/hw3_data_1.npy')\n",
    "x = data[:,0]\n",
    "sigma = data [:,1]\n",
    "#data"
   ]
  },
  {
   "cell_type": "code",
   "execution_count": 363,
   "metadata": {},
   "outputs": [
    {
     "name": "stdout",
     "output_type": "stream",
     "text": [
      "Sample Mean =  3.9179920346060557 \n",
      "Standard Error on the sample mean =  0.09481084100510954\n"
     ]
    }
   ],
   "source": [
    "sample_mu = np.sum(x / sigma**2) / np.sum(1/(sigma**2))\n",
    "sample_sigma = np.sum(1/(sigma)**2)**(-1/2)\n",
    "print('Sample Mean = ',sample_mu ,'\\nStandard Error on the sample mean = ' , sample_sigma)"
   ]
  },
  {
   "cell_type": "code",
   "execution_count": 364,
   "metadata": {},
   "outputs": [
    {
     "name": "stdout",
     "output_type": "stream",
     "text": [
      "After optimization the mean turn out to be =  3.937547481513503\n"
     ]
    }
   ],
   "source": [
    "#Minimizing the Chi^2 value\n",
    "def negative_log_likelihood_gaussian(params, x):\n",
    "    mu, sigma = params\n",
    "    return np.sum((x - mu)**2 / (2 * sigma**2) + np.log(np.sqrt(2 * np.pi * sigma**2)))\n",
    "result = sp.optimize.minimize(negative_log_likelihood_gaussian, [np.mean(x), np.std(x, ddof=1)], args=(x,))\n",
    "mu_fit_g, sigma_fit_g = result.x\n",
    "print('After optimization the mean turn out to be = ',mu_fit_g)"
   ]
  },
  {
   "cell_type": "code",
   "execution_count": 365,
   "metadata": {},
   "outputs": [
    {
     "name": "stdout",
     "output_type": "stream",
     "text": [
      "fischer uncertainity of mu =  0.09481084100510956\n"
     ]
    }
   ],
   "source": [
    "f_mu = 1/np.sqrt(np.sum(1/sigma**2))\n",
    "print('fischer uncertainity of mu = ',f_mu)"
   ]
  },
  {
   "cell_type": "code",
   "execution_count": 366,
   "metadata": {},
   "outputs": [],
   "source": [
    "bootstrap_data = np.empty((1000, 50, 2))\n",
    "np.random.seed(42)\n",
    "for j in range(1000):\n",
    "    for i in range(50):\n",
    "        rnd = np.random.randint(0, 50)\n",
    "        bootstrap_data[j,i] = data[rnd]        "
   ]
  },
  {
   "cell_type": "code",
   "execution_count": 380,
   "metadata": {},
   "outputs": [
    {
     "data": {
      "image/png": "[encoded data removed]",
      "text/plain": [
       "<Figure size 640x480 with 1 Axes>"
      ]
     },
     "metadata": {},
     "output_type": "display_data"
    }
   ],
   "source": [
    "mu_hist_g=[]\n",
    "for j in range(1000):\n",
    "    boot_x = bootstrap_data[j][:,0]\n",
    "    boot_sigma = bootstrap_data[j][:,1]\n",
    "    result = sp.optimize.minimize(negative_log_likelihood_gaussian, [np.mean(boot_x), np.std(boot_x, ddof=1)], args=(boot_x,))\n",
    "    mu_fit, sigma_fit = result.x\n",
    "    mu_hist_g.append(mu_fit)\n",
    "    \n",
    "plt.hist(mu_hist_g, bins=80,density=True)\n",
    "dist_g = norm(loc=sample_mu, scale=sample_sigma)\n",
    "x_range = np.linspace(3,5,1000)\n",
    "plt.plot(x_range,dist_g.pdf(x_range))\n",
    "plt.show()"
   ]
  },
  {
   "cell_type": "code",
   "execution_count": 368,
   "metadata": {},
   "outputs": [
    {
     "name": "stdout",
     "output_type": "stream",
     "text": [
      "After optimization the mean turns out to be =  4.085141264538312\n"
     ]
    }
   ],
   "source": [
    "def negative_log_likelihood_laplace(params, x):\n",
    "    mu, delta = params\n",
    "    return np.sum(np.log(2 * delta) + np.abs(x - mu) / delta)\n",
    "res_l = sp.optimize.minimize(negative_log_likelihood_laplace, [np.median(x), np.mean(np.abs(x - np.median(x)))], args=(x,))\n",
    "mu_fit_l, delta_fit_l = res_l.x\n",
    "\n",
    "print('After optimization the mean turns out to be = ',mu_fit_l)"
   ]
  },
  {
   "cell_type": "code",
   "execution_count": 369,
   "metadata": {},
   "outputs": [],
   "source": [
    "def log_likelihood_gaussian(mu, sigma, x):\n",
    "    return -0.5 * np.sum(((x - mu) / sigma)**2 + np.log(2 * np.pi * sigma**2))\n",
    "\n",
    "def log_likelihood_laplace(mu, delta, x):\n",
    "    return -np.sum(np.log(2 * delta) + np.abs(x - mu) / delta)\n",
    "    \n",
    "def compute_aic(log_likelihood, k):\n",
    "    return 2 * k - 2 * log_likelihood\n",
    "k=2\n",
    "aic_g = compute_aic(log_likelihood_gaussian(mu_fit_g, sigma_fit_g, x) , k)\n",
    "aic_l = compute_aic(log_likelihood_laplace(mu_fit_l, delta_fit_l, x) , k)\n",
    "#log_likelihood_gaussian(mu_fit_g, sigma_fit_g, x) , log_likelihood_laplace(mu_fit_l, delta_fit_l, x)"
   ]
  },
  {
   "cell_type": "code",
   "execution_count": 370,
   "metadata": {},
   "outputs": [
    {
     "name": "stdout",
     "output_type": "stream",
     "text": [
      "Lower AIC is favoured \n",
      "AIC of Gaussian =  315.86537847577375 \n",
      "AIC of Laplacian =  317.57783235318016\n"
     ]
    }
   ],
   "source": [
    "print('Lower AIC is favoured \\nAIC of Gaussian = ',aic_g,'\\nAIC of Laplacian = ',aic_l)"
   ]
  },
  {
   "cell_type": "code",
   "execution_count": 371,
   "metadata": {},
   "outputs": [],
   "source": [
    "hist_l=np.empty((1000,2))\n",
    "for j in range(1000):\n",
    "    boot_x = bootstrap_data[j][:,0]\n",
    "    boot_sigma = bootstrap_data[j][:,1]\n",
    "    result = sp.optimize.minimize(negative_log_likelihood_laplace, [np.median(boot_x), np.mean(np.abs(boot_x - np.median(boot_x)))], args=(boot_x,))\n",
    "    b_mu_fit_l, b_delta_fit_l = result.x\n",
    "    hist_l[j]=np.array([b_mu_fit_l, b_delta_fit_l])\n",
    "    \n",
    "# plt.hist(mu_hist_l, bins=100,density=True)\n",
    "# dist_l = laplace(loc=sample_mu, scale=sample_sigma)\n",
    "# x_range = np.linspace(3,5,1000)\n",
    "# plt.plot(x_range,dist_l.pdf(x_range))\n",
    "# plt.show()"
   ]
  },
  {
   "cell_type": "code",
   "execution_count": 372,
   "metadata": {},
   "outputs": [
    {
     "data": {
      "image/png": "[encoded data removed]",
      "text/plain": [
       "<Figure size 550x550 with 4 Axes>"
      ]
     },
     "metadata": {},
     "output_type": "display_data"
    }
   ],
   "source": [
    "fig = corner.corner(\n",
    "    hist_l,\n",
    "    labels=[r\"$\\mu$\", r\"$\\Delta$\"],  # LaTeX-style labels\n",
    "    quantiles=[0.16, 0.5, 0.84],  # 68% credible interval\n",
    "    show_titles=True,  # Show best-fit values on 1D marginals\n",
    "    title_fmt=\".3f\",  # Format of the titles\n",
    "    title_kwargs={\"fontsize\": 12},  # Adjust title font size\n",
    "    plot_contours=True,  # Show 2D contours\n",
    "    levels=[0.68, 0.95],  # 68% and 95% levels\n",
    "    color=\"blue\"  # Set plot color\n",
    ")\n"
   ]
  },
  {
   "cell_type": "code",
   "execution_count": 373,
   "metadata": {},
   "outputs": [],
   "source": [
    "def log_likelihood(params, data):\n",
    "    mu, delta = params\n",
    "    return -np.sum(np.log(laplace.pdf(data, loc=mu, scale=delta)))\n",
    "\n",
    "# Step 3: Define a function to compute the Hessian (second derivatives)\n",
    "def compute_hessian(log_likelihood, data, params):\n",
    "    # numdifftools will compute the Hessian (second derivatives) of the log-likelihood function\n",
    "    hessian = nd.Hessian(lambda p: log_likelihood(p, data))(params)\n",
    "    return hessian\n",
    "\n",
    "params_best_fit = [mu_fit_l, delta_fit_l]\n",
    "hessian_matrix = compute_hessian(log_likelihood, x, params_best_fit)\n",
    "\n",
    "# Step 7: Invert the Hessian matrix to get the covariance matrix\n",
    "covariance_matrix = np.linalg.inv(hessian_matrix)\n",
    "\n",
    "# Step 8: Take the square root of the diagonal to get the Fisher uncertainties\n",
    "fisher_uncertainties = np.sqrt(np.diag(covariance_matrix))"
   ]
  },
  {
   "cell_type": "code",
   "execution_count": 374,
   "metadata": {},
   "outputs": [],
   "source": [
    "#Fischer Uncertainities for mean and delta"
   ]
  },
  {
   "cell_type": "code",
   "execution_count": 375,
   "metadata": {},
   "outputs": [
    {
     "data": {
      "text/plain": [
       "array([0.1092248 , 0.08822692])"
      ]
     },
     "execution_count": 375,
     "metadata": {},
     "output_type": "execute_result"
    }
   ],
   "source": [
    "fisher_uncertainties"
   ]
  },
  {
   "cell_type": "code",
   "execution_count": 376,
   "metadata": {},
   "outputs": [],
   "source": [
    "mu_bootstrap_width = np.std(hist_l[:,0])\n",
    "delta_bootstrap_width = np.std(hist_l[:,1])"
   ]
  },
  {
   "cell_type": "code",
   "execution_count": 377,
   "metadata": {},
   "outputs": [],
   "source": [
    "#From Bootstrap Method"
   ]
  },
  {
   "cell_type": "code",
   "execution_count": 378,
   "metadata": {},
   "outputs": [
    {
     "data": {
      "text/plain": [
       "(0.13725405553149622, 0.10496329080263131)"
      ]
     },
     "execution_count": 378,
     "metadata": {},
     "output_type": "execute_result"
    }
   ],
   "source": [
    "mu_bootstrap_width,delta_bootstrap_width"
   ]
  }
 ],
 "metadata": {
  "anaconda-cloud": {},
  "kernelspec": {
   "display_name": "Python 3 (ipykernel)",
   "language": "python",
   "name": "python3"
  },
  "language_info": {
   "codemirror_mode": {
    "name": "ipython",
    "version": 3
   },
   "file_extension": ".py",
   "mimetype": "text/x-python",
   "name": "python",
   "nbconvert_exporter": "python",
   "pygments_lexer": "ipython3",
   "version": "3.10.16"
  }
 },
 "nbformat": 4,
 "nbformat_minor": 4
}
