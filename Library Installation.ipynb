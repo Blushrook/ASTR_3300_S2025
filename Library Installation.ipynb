{
 "cells": [
  {
   "cell_type": "code",
   "execution_count": 2,
   "id": "d74581e7",
   "metadata": {},
   "outputs": [
    {
     "name": "stdout",
     "output_type": "stream",
     "text": [
      "Requirement already satisfied: scikit-learn in c:\\users\\joek33p\\anaconda3\\lib\\site-packages (1.0.2)\n",
      "Requirement already satisfied: threadpoolctl>=2.0.0 in c:\\users\\joek33p\\anaconda3\\lib\\site-packages (from scikit-learn) (2.2.0)\n",
      "Requirement already satisfied: scipy>=1.1.0 in c:\\users\\joek33p\\anaconda3\\lib\\site-packages (from scikit-learn) (1.9.1)\n",
      "Requirement already satisfied: numpy>=1.14.6 in c:\\users\\joek33p\\anaconda3\\lib\\site-packages (from scikit-learn) (1.21.5)\n",
      "Requirement already satisfied: joblib>=0.11 in c:\\users\\joek33p\\anaconda3\\lib\\site-packages (from scikit-learn) (1.1.0)\n"
     ]
    }
   ],
   "source": [
    "!pip install scikit-learn\n"
   ]
  },
  {
   "cell_type": "code",
   "execution_count": 3,
   "id": "6eb0af7d",
   "metadata": {},
   "outputs": [
    {
     "name": "stdout",
     "output_type": "stream",
     "text": [
      "Collecting astroML\n",
      "  Downloading astroML-1.0.2.post1-py3-none-any.whl (134 kB)\n",
      "     ------------------------------------ 134.3/134.3 kB 496.2 kB/s eta 0:00:00\n",
      "Requirement already satisfied: matplotlib>=3.0 in c:\\users\\joek33p\\anaconda3\\lib\\site-packages (from astroML) (3.5.2)\n",
      "Requirement already satisfied: astropy>=3.0 in c:\\users\\joek33p\\anaconda3\\lib\\site-packages (from astroML) (5.1)\n",
      "Requirement already satisfied: scipy>=0.18 in c:\\users\\joek33p\\anaconda3\\lib\\site-packages (from astroML) (1.9.1)\n",
      "Requirement already satisfied: numpy>=1.13 in c:\\users\\joek33p\\anaconda3\\lib\\site-packages (from astroML) (1.21.5)\n",
      "Requirement already satisfied: scikit-learn>=0.18 in c:\\users\\joek33p\\anaconda3\\lib\\site-packages (from astroML) (1.0.2)\n",
      "Requirement already satisfied: packaging>=19.0 in c:\\users\\joek33p\\anaconda3\\lib\\site-packages (from astropy>=3.0->astroML) (21.3)\n",
      "Requirement already satisfied: pyerfa>=2.0 in c:\\users\\joek33p\\anaconda3\\lib\\site-packages (from astropy>=3.0->astroML) (2.0.0)\n",
      "Requirement already satisfied: PyYAML>=3.13 in c:\\users\\joek33p\\anaconda3\\lib\\site-packages (from astropy>=3.0->astroML) (6.0)\n",
      "Requirement already satisfied: fonttools>=4.22.0 in c:\\users\\joek33p\\anaconda3\\lib\\site-packages (from matplotlib>=3.0->astroML) (4.25.0)\n",
      "Requirement already satisfied: pillow>=6.2.0 in c:\\users\\joek33p\\anaconda3\\lib\\site-packages (from matplotlib>=3.0->astroML) (9.2.0)\n",
      "Requirement already satisfied: cycler>=0.10 in c:\\users\\joek33p\\anaconda3\\lib\\site-packages (from matplotlib>=3.0->astroML) (0.11.0)\n",
      "Requirement already satisfied: pyparsing>=2.2.1 in c:\\users\\joek33p\\anaconda3\\lib\\site-packages (from matplotlib>=3.0->astroML) (3.0.9)\n",
      "Requirement already satisfied: python-dateutil>=2.7 in c:\\users\\joek33p\\anaconda3\\lib\\site-packages (from matplotlib>=3.0->astroML) (2.8.2)\n",
      "Requirement already satisfied: kiwisolver>=1.0.1 in c:\\users\\joek33p\\anaconda3\\lib\\site-packages (from matplotlib>=3.0->astroML) (1.4.2)\n",
      "Requirement already satisfied: threadpoolctl>=2.0.0 in c:\\users\\joek33p\\anaconda3\\lib\\site-packages (from scikit-learn>=0.18->astroML) (2.2.0)\n",
      "Requirement already satisfied: joblib>=0.11 in c:\\users\\joek33p\\anaconda3\\lib\\site-packages (from scikit-learn>=0.18->astroML) (1.1.0)\n",
      "Requirement already satisfied: six>=1.5 in c:\\users\\joek33p\\anaconda3\\lib\\site-packages (from python-dateutil>=2.7->matplotlib>=3.0->astroML) (1.16.0)\n",
      "Installing collected packages: astroML\n",
      "Successfully installed astroML-1.0.2.post1\n"
     ]
    }
   ],
   "source": [
    "!pip install astroML\n"
   ]
  },
  {
   "cell_type": "code",
   "execution_count": 4,
   "id": "77d3804a",
   "metadata": {},
   "outputs": [
    {
     "name": "stdout",
     "output_type": "stream",
     "text": [
      "Collecting corner\n",
      "  Downloading corner-2.2.3-py3-none-any.whl (15 kB)\n",
      "Requirement already satisfied: matplotlib>=2.1 in c:\\users\\joek33p\\anaconda3\\lib\\site-packages (from corner) (3.5.2)\n",
      "Requirement already satisfied: packaging>=20.0 in c:\\users\\joek33p\\anaconda3\\lib\\site-packages (from matplotlib>=2.1->corner) (21.3)\n",
      "Requirement already satisfied: pyparsing>=2.2.1 in c:\\users\\joek33p\\anaconda3\\lib\\site-packages (from matplotlib>=2.1->corner) (3.0.9)\n",
      "Requirement already satisfied: kiwisolver>=1.0.1 in c:\\users\\joek33p\\anaconda3\\lib\\site-packages (from matplotlib>=2.1->corner) (1.4.2)\n",
      "Requirement already satisfied: cycler>=0.10 in c:\\users\\joek33p\\anaconda3\\lib\\site-packages (from matplotlib>=2.1->corner) (0.11.0)\n",
      "Requirement already satisfied: numpy>=1.17 in c:\\users\\joek33p\\anaconda3\\lib\\site-packages (from matplotlib>=2.1->corner) (1.21.5)\n",
      "Requirement already satisfied: python-dateutil>=2.7 in c:\\users\\joek33p\\anaconda3\\lib\\site-packages (from matplotlib>=2.1->corner) (2.8.2)\n",
      "Requirement already satisfied: pillow>=6.2.0 in c:\\users\\joek33p\\anaconda3\\lib\\site-packages (from matplotlib>=2.1->corner) (9.2.0)\n",
      "Requirement already satisfied: fonttools>=4.22.0 in c:\\users\\joek33p\\anaconda3\\lib\\site-packages (from matplotlib>=2.1->corner) (4.25.0)\n",
      "Requirement already satisfied: six>=1.5 in c:\\users\\joek33p\\anaconda3\\lib\\site-packages (from python-dateutil>=2.7->matplotlib>=2.1->corner) (1.16.0)\n",
      "Installing collected packages: corner\n",
      "Successfully installed corner-2.2.3\n"
     ]
    }
   ],
   "source": [
    "!pip install corner"
   ]
  },
  {
   "cell_type": "code",
   "execution_count": 1,
   "id": "21050c6e",
   "metadata": {},
   "outputs": [
    {
     "name": "stdout",
     "output_type": "stream",
     "text": [
      "Collecting PyMC3\n",
      "  Downloading pymc3-3.11.6-py3-none-any.whl (872 kB)\n",
      "     -------------------------------------- 872.6/872.6 kB 4.2 MB/s eta 0:00:00\n",
      "Requirement already satisfied: patsy>=0.5.1 in c:\\users\\joek33p\\anaconda3\\lib\\site-packages (from PyMC3) (0.5.2)\n",
      "Requirement already satisfied: pandas>=0.24.0 in c:\\users\\joek33p\\anaconda3\\lib\\site-packages (from PyMC3) (1.4.4)\n",
      "Collecting semver>=2.13.0\n",
      "  Downloading semver-3.0.2-py3-none-any.whl (17 kB)\n",
      "Collecting theano-pymc==1.1.2\n",
      "  Downloading Theano-PyMC-1.1.2.tar.gz (1.8 MB)\n",
      "     ---------------------------------------- 1.8/1.8 MB 11.5 MB/s eta 0:00:00\n",
      "  Preparing metadata (setup.py): started\n",
      "  Preparing metadata (setup.py): finished with status 'done'\n",
      "Collecting arviz>=0.11.0\n",
      "  Downloading arviz-0.17.1-py3-none-any.whl (1.7 MB)\n",
      "     ---------------------------------------- 1.7/1.7 MB 10.6 MB/s eta 0:00:00\n",
      "Requirement already satisfied: dill in c:\\users\\joek33p\\anaconda3\\lib\\site-packages (from PyMC3) (0.3.4)\n",
      "Collecting deprecat\n",
      "  Downloading deprecat-2.1.3-py2.py3-none-any.whl (10 kB)\n",
      "Collecting cachetools>=4.2.1\n",
      "  Downloading cachetools-5.5.0-py3-none-any.whl (9.5 kB)\n",
      "Collecting fastprogress>=0.2.0\n",
      "  Downloading fastprogress-1.0.3-py3-none-any.whl (12 kB)\n",
      "Collecting scipy<1.8.0,>=1.7.3\n",
      "  Downloading scipy-1.7.3-cp39-cp39-win_amd64.whl (34.3 MB)\n",
      "     --------------------------------------- 34.3/34.3 MB 11.1 MB/s eta 0:00:00\n",
      "Requirement already satisfied: numpy<1.22.2,>=1.15.0 in c:\\users\\joek33p\\anaconda3\\lib\\site-packages (from PyMC3) (1.21.5)\n",
      "Requirement already satisfied: typing-extensions>=3.7.4 in c:\\users\\joek33p\\anaconda3\\lib\\site-packages (from PyMC3) (4.3.0)\n",
      "Requirement already satisfied: filelock in c:\\users\\joek33p\\anaconda3\\lib\\site-packages (from theano-pymc==1.1.2->PyMC3) (3.6.0)\n",
      "Requirement already satisfied: setuptools>=60.0.0 in c:\\users\\joek33p\\anaconda3\\lib\\site-packages (from arviz>=0.11.0->PyMC3) (63.4.1)\n",
      "Collecting xarray-einstats>=0.3\n",
      "  Downloading xarray_einstats-0.7.0-py3-none-any.whl (31 kB)\n",
      "Collecting xarray>=0.21.0\n",
      "  Downloading xarray-2024.7.0-py3-none-any.whl (1.2 MB)\n",
      "     ---------------------------------------- 1.2/1.2 MB 9.3 MB/s eta 0:00:00\n",
      "Collecting h5netcdf>=1.0.2\n",
      "  Downloading h5netcdf-1.4.1-py3-none-any.whl (50 kB)\n",
      "     ---------------------------------------- 50.1/50.1 kB ? eta 0:00:00\n",
      "Collecting numpy<1.22.2,>=1.15.0\n",
      "  Downloading numpy-1.22.1-cp39-cp39-win_amd64.whl (14.7 MB)\n",
      "     --------------------------------------- 14.7/14.7 MB 11.9 MB/s eta 0:00:00\n",
      "Collecting arviz>=0.11.0\n",
      "  Downloading arviz-0.17.0-py3-none-any.whl (1.7 MB)\n",
      "     ---------------------------------------- 1.7/1.7 MB 11.7 MB/s eta 0:00:00\n",
      "  Downloading arviz-0.16.1-py3-none-any.whl (1.7 MB)\n",
      "     ---------------------------------------- 1.7/1.7 MB 11.6 MB/s eta 0:00:00\n",
      "  Downloading arviz-0.16.0-py3-none-any.whl (1.7 MB)\n",
      "     ---------------------------------------- 1.7/1.7 MB 11.6 MB/s eta 0:00:00\n",
      "  Downloading arviz-0.15.1-py3-none-any.whl (1.6 MB)\n",
      "     ---------------------------------------- 1.6/1.6 MB 13.1 MB/s eta 0:00:00\n",
      "  Downloading arviz-0.15.0-py3-none-any.whl (1.6 MB)\n",
      "     ---------------------------------------- 1.6/1.6 MB 13.1 MB/s eta 0:00:00\n",
      "  Downloading arviz-0.14.0-py3-none-any.whl (1.7 MB)\n",
      "     ---------------------------------------- 1.7/1.7 MB 10.5 MB/s eta 0:00:00\n",
      "  Downloading arviz-0.13.0-py3-none-any.whl (1.7 MB)\n",
      "     ---------------------------------------- 1.7/1.7 MB 11.7 MB/s eta 0:00:00\n",
      "  Downloading arviz-0.12.1-py3-none-any.whl (1.6 MB)\n",
      "     ---------------------------------------- 1.6/1.6 MB 11.2 MB/s eta 0:00:00\n",
      "Collecting netcdf4\n",
      "  Downloading netCDF4-1.7.2-cp39-cp39-win_amd64.whl (7.0 MB)\n",
      "     ---------------------------------------- 7.0/7.0 MB 12.4 MB/s eta 0:00:00\n",
      "Requirement already satisfied: xarray>=0.16.1 in c:\\users\\joek33p\\anaconda3\\lib\\site-packages (from arviz>=0.11.0->PyMC3) (0.20.1)\n",
      "Requirement already satisfied: matplotlib>=3.0 in c:\\users\\joek33p\\anaconda3\\lib\\site-packages (from arviz>=0.11.0->PyMC3) (3.5.2)\n",
      "Requirement already satisfied: packaging in c:\\users\\joek33p\\anaconda3\\lib\\site-packages (from arviz>=0.11.0->PyMC3) (21.3)\n",
      "Requirement already satisfied: pytz>=2020.1 in c:\\users\\joek33p\\anaconda3\\lib\\site-packages (from pandas>=0.24.0->PyMC3) (2022.1)\n",
      "Requirement already satisfied: python-dateutil>=2.8.1 in c:\\users\\joek33p\\anaconda3\\lib\\site-packages (from pandas>=0.24.0->PyMC3) (2.8.2)\n",
      "Requirement already satisfied: six in c:\\users\\joek33p\\anaconda3\\lib\\site-packages (from patsy>=0.5.1->PyMC3) (1.16.0)\n",
      "Requirement already satisfied: wrapt<2,>=1.10 in c:\\users\\joek33p\\anaconda3\\lib\\site-packages (from deprecat->PyMC3) (1.14.1)\n",
      "Requirement already satisfied: kiwisolver>=1.0.1 in c:\\users\\joek33p\\anaconda3\\lib\\site-packages (from matplotlib>=3.0->arviz>=0.11.0->PyMC3) (1.4.2)\n",
      "Requirement already satisfied: pillow>=6.2.0 in c:\\users\\joek33p\\anaconda3\\lib\\site-packages (from matplotlib>=3.0->arviz>=0.11.0->PyMC3) (9.2.0)\n",
      "Requirement already satisfied: fonttools>=4.22.0 in c:\\users\\joek33p\\anaconda3\\lib\\site-packages (from matplotlib>=3.0->arviz>=0.11.0->PyMC3) (4.25.0)\n",
      "Requirement already satisfied: cycler>=0.10 in c:\\users\\joek33p\\anaconda3\\lib\\site-packages (from matplotlib>=3.0->arviz>=0.11.0->PyMC3) (0.11.0)\n",
      "Requirement already satisfied: pyparsing>=2.2.1 in c:\\users\\joek33p\\anaconda3\\lib\\site-packages (from matplotlib>=3.0->arviz>=0.11.0->PyMC3) (3.0.9)\n",
      "Collecting xarray-einstats>=0.2\n",
      "  Downloading xarray_einstats-0.6.0-py3-none-any.whl (31 kB)\n",
      "Collecting pandas>=0.24.0\n",
      "  Downloading pandas-2.2.3-cp39-cp39-win_amd64.whl (11.6 MB)\n",
      "     --------------------------------------- 11.6/11.6 MB 12.8 MB/s eta 0:00:00\n",
      "Collecting xarray>=0.16.1\n",
      "  Downloading xarray-2024.6.0-py3-none-any.whl (1.2 MB)\n",
      "     ---------------------------------------- 1.2/1.2 MB 10.6 MB/s eta 0:00:00\n",
      "  Downloading xarray-2024.5.0-py3-none-any.whl (1.2 MB)\n",
      "     ---------------------------------------- 1.2/1.2 MB 10.6 MB/s eta 0:00:00\n",
      "  Downloading xarray-2024.3.0-py3-none-any.whl (1.1 MB)\n",
      "     ---------------------------------------- 1.1/1.1 MB 10.3 MB/s eta 0:00:00\n",
      "Collecting packaging\n",
      "  Downloading packaging-24.2-py3-none-any.whl (65 kB)\n",
      "     ---------------------------------------- 65.5/65.5 kB 3.5 MB/s eta 0:00:00\n",
      "Collecting xarray>=0.16.1\n",
      "  Downloading xarray-2024.2.0-py3-none-any.whl (1.1 MB)\n",
      "     ---------------------------------------- 1.1/1.1 MB 9.9 MB/s eta 0:00:00\n",
      "  Downloading xarray-2024.1.1-py3-none-any.whl (1.1 MB)\n",
      "     ---------------------------------------- 1.1/1.1 MB 11.4 MB/s eta 0:00:00\n",
      "  Downloading xarray-2024.1.0-py3-none-any.whl (1.1 MB)\n",
      "     ---------------------------------------- 1.1/1.1 MB 11.4 MB/s eta 0:00:00\n",
      "  Downloading xarray-2023.12.0-py3-none-any.whl (1.1 MB)\n",
      "     ---------------------------------------- 1.1/1.1 MB 11.3 MB/s eta 0:00:00\n",
      "Collecting cftime\n",
      "  Downloading cftime-1.6.4.post1-cp39-cp39-win_amd64.whl (189 kB)\n",
      "     ------------------------------------- 189.2/189.2 kB 11.9 MB/s eta 0:00:00\n",
      "Requirement already satisfied: certifi in c:\\users\\joek33p\\anaconda3\\lib\\site-packages (from netcdf4->arviz>=0.11.0->PyMC3) (2022.9.14)\n",
      "Building wheels for collected packages: theano-pymc\n",
      "  Building wheel for theano-pymc (setup.py): started\n",
      "  Building wheel for theano-pymc (setup.py): finished with status 'done'\n",
      "  Created wheel for theano-pymc: filename=Theano_PyMC-1.1.2-py3-none-any.whl size=1529975 sha256=39a90ac52432bc5ecd4fbce210612058f798892edabce9881fd9df71be52a3bb\n",
      "  Stored in directory: c:\\users\\joek33p\\appdata\\local\\pip\\cache\\wheels\\04\\22\\4d\\832878ba2fe9ea3543f0189b9288a78e4aa4e0afc851a6890c\n",
      "Successfully built theano-pymc\n",
      "Installing collected packages: semver, numpy, fastprogress, deprecat, cachetools, scipy, cftime, xarray, theano-pymc, netcdf4, xarray-einstats, arviz, PyMC3\n",
      "  Attempting uninstall: numpy\n",
      "    Found existing installation: numpy 1.21.5\n",
      "    Uninstalling numpy-1.21.5:\n",
      "      Successfully uninstalled numpy-1.21.5\n"
     ]
    },
    {
     "name": "stderr",
     "output_type": "stream",
     "text": [
      "ERROR: Could not install packages due to an OSError: [WinError 5] Access is denied: 'C:\\\\Users\\\\JoeK33p\\\\anaconda3\\\\Lib\\\\site-packages\\\\~umpy\\\\core\\\\_multiarray_tests.cp39-win_amd64.pyd'\n",
      "Consider using the `--user` option or check the permissions.\n",
      "\n"
     ]
    }
   ],
   "source": [
    "!pip install PyMC3"
   ]
  },
  {
   "cell_type": "code",
   "execution_count": null,
   "id": "d20247db",
   "metadata": {},
   "outputs": [],
   "source": []
  }
 ],
 "metadata": {
  "kernelspec": {
   "display_name": "Python 3 (ipykernel)",
   "language": "python",
   "name": "python3"
  },
  "language_info": {
   "codemirror_mode": {
    "name": "ipython",
    "version": 3
   },
   "file_extension": ".py",
   "mimetype": "text/x-python",
   "name": "python",
   "nbconvert_exporter": "python",
   "pygments_lexer": "ipython3",
   "version": "3.9.13"
  }
 },
 "nbformat": 4,
 "nbformat_minor": 5
}
